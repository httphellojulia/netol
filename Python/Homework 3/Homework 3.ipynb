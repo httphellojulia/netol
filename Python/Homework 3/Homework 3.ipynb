{
 "cells": [
  {
   "cell_type": "markdown",
   "id": "d77583b7",
   "metadata": {},
   "source": [
    "# Задание 1\n",
    "Дана переменная, в которой хранится слово из латинских букв. Напишите код, который выводит на экран:\n",
    "среднюю букву, если число букв в слове нечетное;\n",
    "две средних буквы, если число букв четное."
   ]
  },
  {
   "cell_type": "code",
   "execution_count": 28,
   "id": "fe112b90",
   "metadata": {},
   "outputs": [
    {
     "name": "stdout",
     "output_type": "stream",
     "text": [
      "число букв в слове четное, средние буквы es\n"
     ]
    }
   ],
   "source": [
    "word = 'test'\n",
    "ln = len(word)\n",
    "if ln%2 == 0:\n",
    "    m = ln/2\n",
    "    print(f'число букв в слове четное, средние буквы {word[int(m-1):int(m+1):1]}')\n",
    "else: \n",
    "    m = int(ln/2)\n",
    "    print(f'число букв в слове нечетное, средняя буква {word[m]}')"
   ]
  },
  {
   "cell_type": "markdown",
   "id": "13b2ed50",
   "metadata": {},
   "source": [
    "# Задание 2\n",
    "Напишите программу, которая последовательно запрашивает у пользователя числа (по одному за раз) и после первого нуля выводит сумму всех ранее введенных чисел."
   ]
  },
  {
   "cell_type": "code",
   "execution_count": 52,
   "id": "43632a84",
   "metadata": {},
   "outputs": [
    {
     "name": "stdout",
     "output_type": "stream",
     "text": [
      "Введите любое число4\n",
      "Введите любое число6\n",
      "Введите любое число0\n",
      "10\n"
     ]
    }
   ],
   "source": [
    "world = 0\n",
    "let=int(input('Введите любое число'))\n",
    "while let != 0:\n",
    "    world += let\n",
    "    let=int(input('Введите любое число'))\n",
    "    \n",
    "print(world)"
   ]
  },
  {
   "cell_type": "markdown",
   "id": "a36704f1",
   "metadata": {},
   "source": [
    "# Задание 3\n",
    "Мы делаем MVP dating-сервиса, и у нас есть список парней и девушек.\n",
    "Выдвигаем гипотезу: лучшие рекомендации мы получим, если просто отсортируем имена по алфавиту и познакомим людей с одинаковыми индексами после сортировки! Но мы не будем никого знакомить, если кто-то может остаться без пары:"
   ]
  },
  {
   "cell_type": "code",
   "execution_count": 89,
   "id": "a75503aa",
   "metadata": {},
   "outputs": [
    {
     "name": "stdout",
     "output_type": "stream",
     "text": [
      "Идеальные пары:\n",
      "Alex и Emma\n",
      "Arthur и Kate\n",
      "John и Kira\n",
      "Peter и Liza\n",
      "Richard и Trisha\n"
     ]
    }
   ],
   "source": [
    "boys = sorted(['Peter', 'Alex', 'John', 'Arthur', 'Richard'])\n",
    "girls = sorted(['Kate', 'Liza', 'Kira', 'Emma', 'Trisha'])\n",
    "if len(boys)==len(girls):\n",
    "    print('Идеальные пары:')\n",
    "    for i in range(len(boys)):\n",
    "        print(boys[i],'и', girls[i])\n",
    "else:\n",
    "    print('Внимание, кто-то может остаться без пары!')"
   ]
  },
  {
   "cell_type": "markdown",
   "id": "27215f53",
   "metadata": {},
   "source": [
    "# Задание 4\n",
    "У нас есть список, содержащий информацию о среднедневной температуре в Фаренгейтах за произвольный период по странам (структура данных в примере). Необходимо написать код, который рассчитает среднюю температуру за период в Цельсиях(!) для каждой страны.\n",
    "\n",
    "формула= (°F − 32) × 5/9"
   ]
  },
  {
   "cell_type": "code",
   "execution_count": 87,
   "id": "0fdd2807",
   "metadata": {},
   "outputs": [
    {
     "name": "stdout",
     "output_type": "stream",
     "text": [
      "Средняя температура в странах:\n",
      "Thailand - 23.9\n",
      "Germany - 13.8\n",
      "Russia - 3.7\n",
      "Poland - 12.0\n"
     ]
    }
   ],
   "source": [
    "countries_temperature = [\n",
    "    ['Thailand', [75.2, 77, 78.8, 73.4, 68, 75.2, 77]],\n",
    "    ['Germany', [57.2, 55.4, 59, 59, 53.6]],\n",
    "    ['Russia', [35.6, 37.4, 39.2, 41, 42.8, 39.2, 35.6]],\n",
    "    ['Poland', [50, 50, 53.6, 57.2, 55.4, 55.4]]\n",
    "]\n",
    "\n",
    "print('Средняя температура в странах:')\n",
    "\n",
    "for i in range (len(countries_temperature)):\n",
    "    country = countries_temperature[i][0]\n",
    "    temp = countries_temperature[i][1]\n",
    "    cel = round(((sum(temp)/len(temp) - 32) * 5/9),1)\n",
    "    print(country, '-', cel)"
   ]
  },
  {
   "cell_type": "markdown",
   "id": "44ed5773",
   "metadata": {},
   "source": [
    "# Задание 5 (необязательное)\n",
    "Дан поток логов по количеству просмотренных страниц для каждого пользователя. Вам необходимо написать алгоритм, который считает среднее значение просмотров на пользователя. Т. е. надо посчитать отношение суммы всех просмотров к количеству уникальных пользователей."
   ]
  },
  {
   "cell_type": "code",
   "execution_count": null,
   "id": "cb3556df",
   "metadata": {},
   "outputs": [],
   "source": [
    "\n",
    "\n",
    "Результат:\n",
    "Среднее количество просмотров на уникального пользователя: 23.25"
   ]
  },
  {
   "cell_type": "code",
   "execution_count": 133,
   "id": "4eb73c9b",
   "metadata": {},
   "outputs": [
    {
     "name": "stdout",
     "output_type": "stream",
     "text": [
      "Среднее количество просмотров на уникального пользователя: 23.25\n"
     ]
    }
   ],
   "source": [
    "stream = [\n",
    "    '2018-01-01,user1,3',\n",
    "    '2018-01-07,user1,4',\n",
    "    '2018-03-29,user1,1',\n",
    "    '2018-04-04,user1,13',\n",
    "    '2018-01-05,user2,7',\n",
    "    '2018-06-14,user3,4',\n",
    "    '2018-07-02,user3,10',\n",
    "    '2018-03-21,user4,19',\n",
    "    '2018-03-22,user4,4',\n",
    "    '2018-04-22,user4,8',\n",
    "    '2018-05-03,user4,9',\n",
    "    '2018-05-11,user4,11',\n",
    "]\n",
    "total_views = 0\n",
    "users = []\n",
    "for i in stream:\n",
    "    s = i.split(',')\n",
    "    total_views+=int(s[2])\n",
    "    if s[1] not in users_views:\n",
    "        users.append(s[1])\n",
    "        \n",
    "print('Среднее количество просмотров на уникального пользователя:', total_views/len(users_views))"
   ]
  },
  {
   "cell_type": "code",
   "execution_count": null,
   "id": "5d4a247b",
   "metadata": {},
   "outputs": [],
   "source": []
  }
 ],
 "metadata": {
  "kernelspec": {
   "display_name": "Python 3",
   "language": "python",
   "name": "python3"
  },
  "language_info": {
   "codemirror_mode": {
    "name": "ipython",
    "version": 3
   },
   "file_extension": ".py",
   "mimetype": "text/x-python",
   "name": "python",
   "nbconvert_exporter": "python",
   "pygments_lexer": "ipython3",
   "version": "3.8.8"
  }
 },
 "nbformat": 4,
 "nbformat_minor": 5
}
