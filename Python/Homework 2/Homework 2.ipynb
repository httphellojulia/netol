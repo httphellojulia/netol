{
 "cells": [
  {
   "cell_type": "markdown",
   "id": "72a8317c",
   "metadata": {},
   "source": [
    "# Задание 1\n",
    "Даны 2 переменных, в которых хранятся строки произвольной длины: phrase_1 и phrase_2.\n",
    "Напишите код, который проверяет какая из этих строк длиннее."
   ]
  },
  {
   "cell_type": "code",
   "execution_count": 27,
   "id": "7e602df9",
   "metadata": {},
   "outputs": [
    {
     "name": "stdout",
     "output_type": "stream",
     "text": [
      "Фраза 1 длиннее фразы 2\n"
     ]
    }
   ],
   "source": [
    "phrase_1 = \"Насколько проще было бы писать программы, если бы не заказчики\"\n",
    "phrase_2 = \"640Кб должно хватить для любых задач. Билл Гейтс (по легенде)\"\n",
    "#phrase_2 = \"Насколько проще было бы писать программы, если бы не заказчик\"\n",
    "if len(phrase_1) > len(phrase_2):\n",
    "    print('Фраза 1 длиннее фразы 2')\n",
    "elif len(phrase_1) < len(phrase_2):\n",
    "    print('Фраза 1 длиннее фразы §')\n",
    "elif len(phrase_1) == len(phrase_2):\n",
    "    print('Фразы равной длины')\n",
    "else: \n",
    "    print('Что-то пошло не так')"
   ]
  },
  {
   "cell_type": "markdown",
   "id": "29fab807",
   "metadata": {},
   "source": [
    "# Задание 2\n",
    "Дана переменная, в которой хранится четырехзначное число (год). \n",
    "Необходимо написать программу, которая выведет, является ли данный год високосным или обычным."
   ]
  },
  {
   "cell_type": "code",
   "execution_count": 28,
   "id": "7b87bc84",
   "metadata": {},
   "outputs": [
    {
     "name": "stdout",
     "output_type": "stream",
     "text": [
      "Високосный год\n"
     ]
    }
   ],
   "source": [
    "year = 2024\n",
    "\n",
    "if year%4 == 0:\n",
    "    print('Високосный год')\n",
    "else:\n",
    "    print('Обычный год')"
   ]
  },
  {
   "cell_type": "markdown",
   "id": "d7a79fbf",
   "metadata": {},
   "source": [
    "# Задание 3\n",
    "Необходимо написать программу, которая будет запрашивать у пользователя месяц и дату рождения и выводить соответствующий знак зодиака."
   ]
  },
  {
   "cell_type": "code",
   "execution_count": 10,
   "id": "6f1d9079",
   "metadata": {},
   "outputs": [
    {
     "name": "stdout",
     "output_type": "stream",
     "text": [
      "Введите день, например 4\n",
      "7\n",
      "Введите месяц, например Октябрь\n",
      "март\n",
      "Ваш знак зодиака: Рыба\n"
     ]
    }
   ],
   "source": [
    "print(\"Введите день, например 4\")\n",
    "dt = input()\n",
    "if int(dt)>32:\n",
    "    print('Вы ввели некорректный день')\n",
    "\n",
    "print(\"Введите месяц, например Октябрь\")\n",
    "mnt = input()\n",
    "\n",
    "if mnt.lower() == \"январь\":\n",
    "    if 0<int(dt)<21:\n",
    "        print('Ваш знак зодиака: Козерог')\n",
    "    else:\n",
    "        print('Ваш знак зодиака: Водолей')\n",
    "elif mnt.lower() == \"февраль\":\n",
    "    if 0<int(dt)<20:\n",
    "        print('Ваш знак зодиака: Водолей')\n",
    "    else:\n",
    "        print('Ваш знак зодиака: Рыба')\n",
    "elif mnt.lower() == \"март\":\n",
    "    if 0<int(dt)<21:\n",
    "        print('Ваш знак зодиака: Рыба')\n",
    "    else:\n",
    "        print('Ваш знак зодиака: Овен')\n",
    "elif mnt.lower() == \"апрель\":\n",
    "    if 0<int(dt)<21:\n",
    "        print('Ваш знак зодиака: Овен')\n",
    "    else:\n",
    "        print('Ваш знак зодиака: Телец') \n",
    "elif mnt.lower() == \"май\":\n",
    "    if 0<int(dt)<22:\n",
    "        print('Ваш знак зодиака: Телец')\n",
    "    else:\n",
    "        print('Ваш знак зодиака: Близнецы') \n",
    "elif mnt.lower() == \"июнь\":\n",
    "    if 0<int(dt)<22:\n",
    "        print('Ваш знак зодиака: Близнецы')\n",
    "    else:\n",
    "        print('Ваш знак зодиака: Рак') \n",
    "elif mnt.lower() == \"июль\":\n",
    "    if 0<int(dt)<22:\n",
    "        print('Ваш знак зодиака: Рак')\n",
    "    else:\n",
    "        print('Ваш знак зодиака: Лев') \n",
    "elif mnt.lower() == \"август\":\n",
    "    if 0<int(dt)<22:\n",
    "        print('Ваш знак зодиака: Лев')\n",
    "    else:\n",
    "        print('Ваш знак зодиака: Девы') \n",
    "elif mnt.lower() == \"сентябрь\":\n",
    "    if 0<int(dt)<24:\n",
    "        print('Ваш знак зодиака: Девы')\n",
    "    else:\n",
    "        print('Ваш знак зодиака: Весы') \n",
    "elif mnt.lower() == \"октябрь\":\n",
    "    if 0<int(dt)<24:\n",
    "        print('Ваш знак зодиака: Весы')\n",
    "    else:\n",
    "        print('Ваш знак зодиака: Скорпион') \n",
    "elif mnt.lower() == \"ноябрь\":\n",
    "    if 0<int(dt)<23:\n",
    "        print('Ваш знак зодиака: Скорпион')\n",
    "    else:\n",
    "        print('Ваш знак зодиака: Стрелец') \n",
    "elif mnt.lower() == \"декабрь\":\n",
    "    if 0<int(dt)<23:\n",
    "        print('Ваш знак зодиака: Стрелец')\n",
    "    else:\n",
    "        print('Ваш знак зодиака: Козерог')\n",
    "else:\n",
    "    print('Ошибка в данных')"
   ]
  },
  {
   "cell_type": "markdown",
   "id": "c02aa78e",
   "metadata": {},
   "source": [
    "# Задание 4\n",
    "Вам нужно написать программу для подбора упаковок по размерам товара. Размеры (ширина, длина, высота) хранятся в переменных (в сантиметрах)\n",
    "\n",
    "- если каждое из трех измерений менее 15 сантиметров, то выведите на экран \"Коробка №1\";\n",
    "- если хотя бы одно из измерений больше 15 сантиметров, но менее 50 сантиметров, то выводите \"Коробка №2\";\n",
    "- если длина товара больше 2 метров, то выводите \"Упаковка для лыж\";\n",
    "- во всех остальных случаях выводите \"Стандартная коробка №3\"."
   ]
  },
  {
   "cell_type": "code",
   "execution_count": 22,
   "id": "e9b704c2",
   "metadata": {},
   "outputs": [
    {
     "name": "stdout",
     "output_type": "stream",
     "text": [
      "Введите ширину\n",
      "10\n",
      "Введите длину\n",
      "210\n",
      "Введите высоту\n",
      "30\n",
      "Упаковка для лыж\n"
     ]
    }
   ],
   "source": [
    "width = 0\n",
    "length = 0\n",
    "height = 0\n",
    "print(\"Введите ширину\")\n",
    "width = int(input())\n",
    "print(\"Введите длину\")\n",
    "length = int(input())\n",
    "print(\"Введите высоту\")\n",
    "height = int(input())\n",
    "\n",
    "if width and length and height < 15:\n",
    "    print('Коробка №1')\n",
    "elif length > 200:\n",
    "    print('Упаковка для лыж')\n",
    "elif 15 < width or length or height <50:\n",
    "    print('Коробка №2')\n",
    "else:\n",
    "    print('Стандартная коробка №3')"
   ]
  },
  {
   "cell_type": "markdown",
   "id": "1f8b1856",
   "metadata": {},
   "source": [
    "# Задание 5\n",
    "Дана переменная, в которой хранится шестизначное число (номер проездного билета). Напишите программу, которая будет определять, является ли данный билет \"счастливым\". Билет считается счастливым, если сумма первых трех цифр совпадает с суммой последних трех цифр номера."
   ]
  },
  {
   "cell_type": "code",
   "execution_count": 39,
   "id": "d72a42db",
   "metadata": {},
   "outputs": [
    {
     "name": "stdout",
     "output_type": "stream",
     "text": [
      "У вас счастливый билет\n"
     ]
    }
   ],
   "source": [
    "number = 123321\n",
    "sn = str(number)[0:6:1]\n",
    "if int(sn[0])+int(sn[1])+int(sn[2]) == int(sn[3])+int(sn[4])+int(sn[5]):\n",
    "    print('У вас счастливый билет')\n",
    "else:\n",
    "    print('У вас несчастливый билет. Попробуйте в другой раз')"
   ]
  },
  {
   "cell_type": "code",
   "execution_count": null,
   "id": "cfa44764",
   "metadata": {},
   "outputs": [],
   "source": []
  }
 ],
 "metadata": {
  "kernelspec": {
   "display_name": "Python 3",
   "language": "python",
   "name": "python3"
  },
  "language_info": {
   "codemirror_mode": {
    "name": "ipython",
    "version": 3
   },
   "file_extension": ".py",
   "mimetype": "text/x-python",
   "name": "python",
   "nbconvert_exporter": "python",
   "pygments_lexer": "ipython3",
   "version": "3.8.8"
  }
 },
 "nbformat": 4,
 "nbformat_minor": 5
}
