{
 "cells": [
  {
   "cell_type": "markdown",
   "id": "9c8994bc",
   "metadata": {},
   "source": [
    "Задание 1\n",
    "Даны 2 переменных, в которых хранятся строки произвольной длины: phrase_1 и phrase_2.\n",
    "Напишите код, который проверяет какая из этих строк длиннее."
   ]
  },
  {
   "cell_type": "code",
   "execution_count": 7,
   "id": "c85222cf",
   "metadata": {},
   "outputs": [
    {
     "name": "stdout",
     "output_type": "stream",
     "text": [
      "Фраза 1 длиннее фразы 2\n"
     ]
    }
   ],
   "source": [
    "phrase_1 = \"Насколько проще было бы писать программы, если бы не заказчики\"\n",
    "phrase_2 = \"640Кб должно хватить для любых задач. Билл Гейтс (по легенде)\"\n",
    "#phrase_2 = \"Насколько проще было бы писать программы, если бы не заказчик\"\n",
    "if len(phrase_1) > len(phrase_2):\n",
    "    print('Фраза 1 длиннее фразы 2')\n",
    "elif len(phrase_1) < len(phrase_2):\n",
    "    print('Фраза 1 длиннее фразы §')\n",
    "elif len(phrase_1) == len(phrase_2):\n",
    "    print('Фразы равной длины')\n",
    "else: \n",
    "    print('Что-то пошло не так')"
   ]
  },
  {
   "cell_type": "code",
   "execution_count": null,
   "id": "c5ca4e26",
   "metadata": {},
   "outputs": [],
   "source": []
  },
  {
   "cell_type": "code",
   "execution_count": null,
   "id": "5b25db83",
   "metadata": {},
   "outputs": [],
   "source": []
  }
 ],
 "metadata": {
  "kernelspec": {
   "display_name": "Python 3",
   "language": "python",
   "name": "python3"
  },
  "language_info": {
   "codemirror_mode": {
    "name": "ipython",
    "version": 3
   },
   "file_extension": ".py",
   "mimetype": "text/x-python",
   "name": "python",
   "nbconvert_exporter": "python",
   "pygments_lexer": "ipython3",
   "version": "3.8.8"
  }
 },
 "nbformat": 4,
 "nbformat_minor": 5
}
