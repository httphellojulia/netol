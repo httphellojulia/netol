{
 "cells": [
  {
   "cell_type": "markdown",
   "id": "b8b73a1c",
   "metadata": {},
   "source": [
    "# Задание 1\n",
    "Напишите функцию, которая принимает на вход строку и проверяет является ли она валидным транспортным номером (1 буква, 3 цифры, 2 буквы, 2-3 цифры). Обратите внимание, что не все буквы кириллического алфавита используются в транспортных номерах.\n",
    "\n",
    "Если номер валиден, то функция должна возвращать отдельно номер и регион.\n",
    "\n",
    "Примеры работы программы:\n",
    "\n",
    "car_id = 'А222BС96’\n",
    "Результат: Номер А222BС валиден. Регион: 96\n",
    "\n",
    "car_id = 'АБ22ВВ193’\n",
    "Результат: Номер не валиден"
   ]
  },
  {
   "cell_type": "code",
   "execution_count": 260,
   "id": "84f4c0ff",
   "metadata": {},
   "outputs": [
    {
     "name": "stdout",
     "output_type": "stream",
     "text": [
      "Введите номер: jkmrvkm\n",
      "Номер не валиден\n",
      "Введите номер: П146РО77\n",
      "Номер П146РО валиден. Регион:77\n"
     ]
    }
   ],
   "source": [
    "import re \n",
    "\n",
    "def funct_():\n",
    "    string = input('Введите номер: ')\n",
    "    a = re.search(r'([а-яА-Я]{1}\\d{3}[а-яА-Я]{2})(\\d{2,3})$',string)\n",
    "    if a == None:\n",
    "        print(f'Номер не валиден')\n",
    "    else:\n",
    "        print(f'Номер {a.group(1)} валиден. Регион:{a.group(2)}')\n",
    "\n",
    "funct_()\n",
    "funct_()"
   ]
  },
  {
   "cell_type": "markdown",
   "id": "ea1a25d2",
   "metadata": {},
   "source": [
    "# Задание 2\n",
    "Напишите функцию, которая будет удалять все последовательные повторы слов из заданной строки при помощи регулярных выражений.\n",
    "\n",
    "Пример работы программы:\n",
    "\n",
    "some_string = ‘Напишите функцию функцию, которая будет будет будет будет удалять все все все все последовательные повторы слов из из из из заданной строки строки при помощи регулярных выражений’\n",
    "\n",
    "Результат: Напишите функцию, которая будет удалять все последовательные повторы слов из заданной строки при помощи регулярных выражений."
   ]
  },
  {
   "cell_type": "code",
   "execution_count": 250,
   "id": "5457d2bb",
   "metadata": {
    "scrolled": true
   },
   "outputs": [
    {
     "name": "stdout",
     "output_type": "stream",
     "text": [
      "Напишите функцию, которая будет удалять все последовательные повторы слов из заданной строки при помощи регулярных выражений\n"
     ]
    }
   ],
   "source": [
    "some_string = 'Напишите функцию функцию, которая будет будет будет будет удалять все все все все последовательные повторы слов из из из из заданной строки строки при помощи регулярных выражений'\n",
    "#print( re.sub(r'\\b([^\\W\\d_]+)(\\s+\\1)+\\b', r'\\1', re.sub(r'\\W+', ' ', some_string)) )\n",
    "\n",
    "print(re.sub(r'([а-яА-Я]+)(\\s\\1)+', r'\\1',some_string)) \n",
    "\n",
    "# Подскажите, пож-та, каким образом в моем рег. выр. можно учитывать символы после слов, чтобы программа воспринимала их как повторы? \n",
    "# У меня не получилось сделать так, чтобы работало для кейса some_string = 'Напишите функцию: функцию, которая будет, будет:...'\n"
   ]
  },
  {
   "cell_type": "markdown",
   "id": "a0a1ba95",
   "metadata": {},
   "source": [
    "# Задание 3\n",
    "Напишите функцию, которая будет возвращать акроним по переданной в нее строке со словами.\n",
    "\n",
    "Примеры работы программы:\n",
    "\n",
    "some_words = 'Информационные технологии’\n",
    "Результат: ИТ\n",
    "\n",
    "some_words = 'Near Field Communication’\n",
    "Результат: NFC"
   ]
  },
  {
   "cell_type": "code",
   "execution_count": 266,
   "id": "fad0f3fa",
   "metadata": {},
   "outputs": [
    {
     "name": "stdout",
     "output_type": "stream",
     "text": [
      "ИТ\n",
      "NFC\n"
     ]
    }
   ],
   "source": [
    "some_words = 'Информационные технологии'\n",
    "some_words2 = 'Near Field Communication'\n",
    "\n",
    "def funct_(some_words):\n",
    "    some_words = ''.join(re.findall(r'[А-ЯA-Z]',some_words.title()))\n",
    "    print(some_words)\n",
    "    \n",
    "funct_(some_words)\n",
    "funct_(some_words2)\n"
   ]
  },
  {
   "cell_type": "markdown",
   "id": "3376ec2e",
   "metadata": {},
   "source": [
    "# Задание 4\n",
    "Напишите функцию, которая будет принимать на вход список email-адресов и выводить их распределение по доменным зонам.\n",
    "\n",
    "Пример работы программы:\n",
    "emails = [‘test@gmail.com, xyz@test.in, test@ya.ru, xyz@mail.ru, xyz@ya.ru’, xyz@gmail.com]\n",
    "    \n",
    "Результат:\n",
    "gmail.com: 2\n",
    "test.in: 1\n",
    "ya.ru: 2\n",
    "mail.ru: 1"
   ]
  },
  {
   "cell_type": "code",
   "execution_count": 314,
   "id": "e76cc60e",
   "metadata": {},
   "outputs": [
    {
     "name": "stdout",
     "output_type": "stream",
     "text": [
      "Результат:\n",
      "gmail.com: 2\n",
      "test.in: 1\n",
      "ya.ru: 2\n",
      "mail.ru: 1\n"
     ]
    }
   ],
   "source": [
    "emails = ['test@gmail.com', 'xyz@test.in', 'test@ya.ru', 'xyz@mail.ru', 'xyz@ya.ru', 'xyz@gmail.com']\n",
    "\n",
    "dict_ = {}\n",
    "\n",
    "def funct_(values):\n",
    "    for i in values:\n",
    "        find = re.search(r'[@](\\w{2,7}[.]\\w{2,3})',i)\n",
    "        if find.group(1) in dict_.keys():\n",
    "              dict_[find.group(1)] +=1\n",
    "        else:\n",
    "            dict_[find.group(1)] = 1\n",
    "    print('Результат:')\n",
    "    \n",
    "    for key, value in dict_.items():\n",
    "        print(\"{0}: {1}\".format(key,value))\n",
    "\n",
    "        \n",
    "funct_(emails)"
   ]
  }
 ],
 "metadata": {
  "kernelspec": {
   "display_name": "Python 3",
   "language": "python",
   "name": "python3"
  },
  "language_info": {
   "codemirror_mode": {
    "name": "ipython",
    "version": 3
   },
   "file_extension": ".py",
   "mimetype": "text/x-python",
   "name": "python",
   "nbconvert_exporter": "python",
   "pygments_lexer": "ipython3",
   "version": "3.8.8"
  }
 },
 "nbformat": 4,
 "nbformat_minor": 5
}
