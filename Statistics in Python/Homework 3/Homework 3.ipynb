{
 "cells": [
  {
   "cell_type": "markdown",
   "id": "3c83eeb8",
   "metadata": {},
   "source": [
    "Смоделировать игру против лотерейного автомата типа “777”. Игрок платит 1 руб., после чего выпадает случайное целое число, равномерно распределенное от 0 до 999. При некоторых значениях числа игрок получает выигрыш.\n",
    "\n",
    "777: 200 руб.\n",
    "999: 100 руб.\n",
    "555: 50 руб.\n",
    "333: 15 руб.\n",
    "111: 10 руб.\n",
    "*77: 5 руб.\n",
    "**7: 3 руб.\n",
    "*00: 2 руб.\n",
    "**0: 1 руб."
   ]
  },
  {
   "cell_type": "code",
   "execution_count": 2,
   "id": "29b86632",
   "metadata": {},
   "outputs": [],
   "source": [
    "import numpy as np"
   ]
  },
  {
   "cell_type": "markdown",
   "id": "5717c59f",
   "metadata": {},
   "source": [
    "Вероятных положительных исходов \n",
    "777: 200 руб.   - 1 исход\n",
    "999: 100 руб.   - 1 исход   \n",
    "555: 50 руб.    - 1 исход\n",
    "333: 15 руб.    - 1 исход\n",
    "111: 10 руб.    - 1 исход\n",
    "*77: 5 руб.     - 10 исходов (от 77 до 977)\n",
    "**7: 3 руб.     - 100 исходов (от 7 до 997)\n",
    "*00: 2 руб.     - 9 исходов (от 100 до 900)\n",
    "**0: 1 руб.     - 90 исход (от 10 до 990)\n",
    "\n",
    "Итого: 214 положительного исхода "
   ]
  },
  {
   "cell_type": "code",
   "execution_count": 54,
   "id": "697a4174",
   "metadata": {},
   "outputs": [
    {
     "name": "stdout",
     "output_type": "stream",
     "text": [
      "0.21421421421421422\n"
     ]
    }
   ],
   "source": [
    "P = 214/999 #вероятность, что выпадет нужное счастливое число\n",
    "print(P)"
   ]
  },
  {
   "cell_type": "code",
   "execution_count": 55,
   "id": "9e814676",
   "metadata": {},
   "outputs": [
    {
     "name": "stdout",
     "output_type": "stream",
     "text": [
      "0.048048048048048075\n"
     ]
    }
   ],
   "source": [
    "#Мат ожидание\n",
    "M = (1/999*200) + (1/999*100)+(1/999*50)+(1/999*15)+(1/999*10)+(10/999*5)+(100/999*3)+(9/999*2)+(90/999*1)+((1-P)*(-1))\n",
    "print(M)"
   ]
  },
  {
   "cell_type": "markdown",
   "id": "27bd4b9c",
   "metadata": {},
   "source": [
    "Вопросы:\n",
    "Выгодна ли игра игроку? - Нет, так как вероятность выпадения счастливого числа достаточна мала - 0,2\n",
    "Сколько в среднем приобретает или теряет игрок за одну игру? - В среднем за 1 игру игрок приобретает 0.04 рубля"
   ]
  },
  {
   "cell_type": "code",
   "execution_count": 68,
   "id": "938c46e7",
   "metadata": {},
   "outputs": [],
   "source": [
    "#Моделирование\n",
    "\n",
    "def mod(x):\n",
    "    bill = 0\n",
    "    for i in range(x):\n",
    "        bill -=1\n",
    "        r = np.random.randint(1,1000)\n",
    "        if r == 777:\n",
    "            bill+=200\n",
    "        elif r==999:\n",
    "            bill+=100\n",
    "        elif r==555:\n",
    "            bill+=50\n",
    "        elif r==333:\n",
    "            bill+=15\n",
    "        elif r==111:\n",
    "            bill+=10\n",
    "        elif str(r)[-2:]=='77':\n",
    "            bill+=5\n",
    "        elif str(r)[-2:]=='00':\n",
    "            bill+=2\n",
    "        elif str(r)[-1:]=='7':\n",
    "            bill+=3\n",
    "        elif str(r)[-1:]=='0':\n",
    "            bill+=1\n",
    "    return bill"
   ]
  },
  {
   "cell_type": "code",
   "execution_count": 73,
   "id": "f9e33c63",
   "metadata": {},
   "outputs": [
    {
     "name": "stdout",
     "output_type": "stream",
     "text": [
      "45 155\n"
     ]
    }
   ],
   "source": [
    "lucky=0\n",
    "unlucky=0\n",
    "\n",
    "for i in range(200):\n",
    "    bill = mod(100)\n",
    "    if bill > 0:\n",
    "        lucky+=1\n",
    "    elif bill < 0:\n",
    "        unlucky+=1\n",
    "        \n",
    "print(lucky,unlucky)"
   ]
  },
  {
   "cell_type": "markdown",
   "id": "05031339",
   "metadata": {},
   "source": [
    "Вероятность выигрыша после моделирования 0,2"
   ]
  },
  {
   "cell_type": "code",
   "execution_count": null,
   "id": "41c948c1",
   "metadata": {},
   "outputs": [],
   "source": []
  }
 ],
 "metadata": {
  "kernelspec": {
   "display_name": "Python 3",
   "language": "python",
   "name": "python3"
  },
  "language_info": {
   "codemirror_mode": {
    "name": "ipython",
    "version": 3
   },
   "file_extension": ".py",
   "mimetype": "text/x-python",
   "name": "python",
   "nbconvert_exporter": "python",
   "pygments_lexer": "ipython3",
   "version": "3.8.8"
  }
 },
 "nbformat": 4,
 "nbformat_minor": 5
}
