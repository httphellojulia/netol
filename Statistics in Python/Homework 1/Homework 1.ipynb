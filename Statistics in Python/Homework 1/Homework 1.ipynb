{
 "cells": [
  {
   "cell_type": "markdown",
   "id": "9379ef13",
   "metadata": {},
   "source": [
    "# Задание 1. Загрузка данных\n",
    "Изучить представленный набор данных на основе описания его столбцов, загрузить его и оставить 8 столбцов для дальнейшего изучения: surgery?, Age, rectal temperature, pulse, respiratory rate, temperature of extremities, pain, outcome."
   ]
  },
  {
   "cell_type": "code",
   "execution_count": 1,
   "id": "5575ea16",
   "metadata": {},
   "outputs": [],
   "source": [
    "import pandas as pd\n",
    "import numpy as np\n",
    "\n",
    "data = pd.read_csv('horse_data.csv', header=None)\n",
    "data.head()\n",
    "data.columns = range(1,29)\n",
    "data = data[[1,2,4,5,6,7,11,23]]\n",
    "data.columns=['surgery','age', 'rectal temperature', 'pulse', 'respiratory rate', 'temperature of extremities', 'pain', 'outcome']"
   ]
  },
  {
   "cell_type": "code",
   "execution_count": 2,
   "id": "c4600bfe",
   "metadata": {},
   "outputs": [
    {
     "data": {
      "text/html": [
       "<div>\n",
       "<style scoped>\n",
       "    .dataframe tbody tr th:only-of-type {\n",
       "        vertical-align: middle;\n",
       "    }\n",
       "\n",
       "    .dataframe tbody tr th {\n",
       "        vertical-align: top;\n",
       "    }\n",
       "\n",
       "    .dataframe thead th {\n",
       "        text-align: right;\n",
       "    }\n",
       "</style>\n",
       "<table border=\"1\" class=\"dataframe\">\n",
       "  <thead>\n",
       "    <tr style=\"text-align: right;\">\n",
       "      <th></th>\n",
       "      <th>surgery</th>\n",
       "      <th>age</th>\n",
       "      <th>rectal temperature</th>\n",
       "      <th>pulse</th>\n",
       "      <th>respiratory rate</th>\n",
       "      <th>temperature of extremities</th>\n",
       "      <th>pain</th>\n",
       "      <th>outcome</th>\n",
       "    </tr>\n",
       "  </thead>\n",
       "  <tbody>\n",
       "    <tr>\n",
       "      <th>0</th>\n",
       "      <td>2</td>\n",
       "      <td>1</td>\n",
       "      <td>38.50</td>\n",
       "      <td>66</td>\n",
       "      <td>28</td>\n",
       "      <td>3</td>\n",
       "      <td>5</td>\n",
       "      <td>2</td>\n",
       "    </tr>\n",
       "    <tr>\n",
       "      <th>1</th>\n",
       "      <td>1</td>\n",
       "      <td>1</td>\n",
       "      <td>39.2</td>\n",
       "      <td>88</td>\n",
       "      <td>20</td>\n",
       "      <td>?</td>\n",
       "      <td>3</td>\n",
       "      <td>3</td>\n",
       "    </tr>\n",
       "    <tr>\n",
       "      <th>2</th>\n",
       "      <td>2</td>\n",
       "      <td>1</td>\n",
       "      <td>38.30</td>\n",
       "      <td>40</td>\n",
       "      <td>24</td>\n",
       "      <td>1</td>\n",
       "      <td>3</td>\n",
       "      <td>1</td>\n",
       "    </tr>\n",
       "    <tr>\n",
       "      <th>3</th>\n",
       "      <td>1</td>\n",
       "      <td>9</td>\n",
       "      <td>39.10</td>\n",
       "      <td>164</td>\n",
       "      <td>84</td>\n",
       "      <td>4</td>\n",
       "      <td>2</td>\n",
       "      <td>2</td>\n",
       "    </tr>\n",
       "    <tr>\n",
       "      <th>4</th>\n",
       "      <td>2</td>\n",
       "      <td>1</td>\n",
       "      <td>37.30</td>\n",
       "      <td>104</td>\n",
       "      <td>35</td>\n",
       "      <td>?</td>\n",
       "      <td>?</td>\n",
       "      <td>2</td>\n",
       "    </tr>\n",
       "    <tr>\n",
       "      <th>5</th>\n",
       "      <td>2</td>\n",
       "      <td>1</td>\n",
       "      <td>?</td>\n",
       "      <td>?</td>\n",
       "      <td>?</td>\n",
       "      <td>2</td>\n",
       "      <td>2</td>\n",
       "      <td>1</td>\n",
       "    </tr>\n",
       "    <tr>\n",
       "      <th>6</th>\n",
       "      <td>1</td>\n",
       "      <td>1</td>\n",
       "      <td>37.90</td>\n",
       "      <td>48</td>\n",
       "      <td>16</td>\n",
       "      <td>1</td>\n",
       "      <td>3</td>\n",
       "      <td>1</td>\n",
       "    </tr>\n",
       "    <tr>\n",
       "      <th>7</th>\n",
       "      <td>1</td>\n",
       "      <td>1</td>\n",
       "      <td>?</td>\n",
       "      <td>60</td>\n",
       "      <td>?</td>\n",
       "      <td>3</td>\n",
       "      <td>?</td>\n",
       "      <td>2</td>\n",
       "    </tr>\n",
       "    <tr>\n",
       "      <th>8</th>\n",
       "      <td>2</td>\n",
       "      <td>1</td>\n",
       "      <td>?</td>\n",
       "      <td>80</td>\n",
       "      <td>36</td>\n",
       "      <td>3</td>\n",
       "      <td>4</td>\n",
       "      <td>3</td>\n",
       "    </tr>\n",
       "    <tr>\n",
       "      <th>9</th>\n",
       "      <td>2</td>\n",
       "      <td>9</td>\n",
       "      <td>38.30</td>\n",
       "      <td>90</td>\n",
       "      <td>?</td>\n",
       "      <td>1</td>\n",
       "      <td>5</td>\n",
       "      <td>1</td>\n",
       "    </tr>\n",
       "  </tbody>\n",
       "</table>\n",
       "</div>"
      ],
      "text/plain": [
       "  surgery  age rectal temperature pulse respiratory rate  \\\n",
       "0       2    1              38.50    66               28   \n",
       "1       1    1               39.2    88               20   \n",
       "2       2    1              38.30    40               24   \n",
       "3       1    9              39.10   164               84   \n",
       "4       2    1              37.30   104               35   \n",
       "5       2    1                  ?     ?                ?   \n",
       "6       1    1              37.90    48               16   \n",
       "7       1    1                  ?    60                ?   \n",
       "8       2    1                  ?    80               36   \n",
       "9       2    9              38.30    90                ?   \n",
       "\n",
       "  temperature of extremities pain outcome  \n",
       "0                          3    5       2  \n",
       "1                          ?    3       3  \n",
       "2                          1    3       1  \n",
       "3                          4    2       2  \n",
       "4                          ?    ?       2  \n",
       "5                          2    2       1  \n",
       "6                          1    3       1  \n",
       "7                          3    ?       2  \n",
       "8                          3    4       3  \n",
       "9                          1    5       1  "
      ]
     },
     "execution_count": 2,
     "metadata": {},
     "output_type": "execute_result"
    }
   ],
   "source": [
    "data.head(10)"
   ]
  },
  {
   "cell_type": "markdown",
   "id": "7cf298af",
   "metadata": {},
   "source": [
    "# Задание 2. Первичное изучение данных\n",
    "Проанализировать значения по столбцам, рассчитать базовые статистики, найти выбросы."
   ]
  },
  {
   "cell_type": "code",
   "execution_count": 3,
   "id": "fac4e0e1",
   "metadata": {},
   "outputs": [],
   "source": [
    "data['surgery'] = pd.to_numeric(data['surgery'], errors='coerce')\n",
    "data['age'] = pd.to_numeric(data['age'], errors='coerce')\n",
    "data['rectal temperature'] = pd.to_numeric(data['rectal temperature'], errors='coerce')\n",
    "data['pulse'] = pd.to_numeric(data['pulse'], errors='coerce')\n",
    "data['respiratory rate'] = pd.to_numeric(data['respiratory rate'], errors='coerce')\n",
    "data['temperature of extremities'] = pd.to_numeric(data['temperature of extremities'], errors='coerce')\n",
    "data['pain'] = pd.to_numeric(data['pain'], errors='coerce')\n",
    "data['outcome'] = pd.to_numeric(data['outcome'], errors='coerce')"
   ]
  },
  {
   "cell_type": "code",
   "execution_count": 4,
   "id": "7b1bc596",
   "metadata": {},
   "outputs": [
    {
     "name": "stdout",
     "output_type": "stream",
     "text": [
      "<class 'pandas.core.frame.DataFrame'>\n",
      "RangeIndex: 300 entries, 0 to 299\n",
      "Data columns (total 8 columns):\n",
      " #   Column                      Non-Null Count  Dtype  \n",
      "---  ------                      --------------  -----  \n",
      " 0   surgery                     299 non-null    float64\n",
      " 1   age                         300 non-null    int64  \n",
      " 2   rectal temperature          240 non-null    float64\n",
      " 3   pulse                       276 non-null    float64\n",
      " 4   respiratory rate            242 non-null    float64\n",
      " 5   temperature of extremities  244 non-null    float64\n",
      " 6   pain                        245 non-null    float64\n",
      " 7   outcome                     299 non-null    float64\n",
      "dtypes: float64(7), int64(1)\n",
      "memory usage: 18.9 KB\n"
     ]
    }
   ],
   "source": [
    "data.info()"
   ]
  },
  {
   "cell_type": "markdown",
   "id": "fd7461ef",
   "metadata": {},
   "source": [
    "## Операции"
   ]
  },
  {
   "cell_type": "code",
   "execution_count": 5,
   "id": "01dc2b0e",
   "metadata": {},
   "outputs": [
    {
     "data": {
      "text/plain": [
       "1.0    180\n",
       "2.0    119\n",
       "Name: surgery, dtype: int64"
      ]
     },
     "execution_count": 5,
     "metadata": {},
     "output_type": "execute_result"
    }
   ],
   "source": [
    "data['surgery'].value_counts() # была операция - 180, не было операции - 118"
   ]
  },
  {
   "cell_type": "code",
   "execution_count": 6,
   "id": "15819c6a",
   "metadata": {},
   "outputs": [
    {
     "name": "stdout",
     "output_type": "stream",
     "text": [
      "Мода: 1.0\n",
      "Медиана: 1.0\n"
     ]
    }
   ],
   "source": [
    "print('Мода:',data['surgery'].mode()[0])\n",
    "print('Медиана:', data['surgery'].quantile(0.5))"
   ]
  },
  {
   "cell_type": "markdown",
   "id": "fc9ed757",
   "metadata": {},
   "source": [
    "Вывод: 60% лошадей оперируются после поступления. "
   ]
  },
  {
   "cell_type": "markdown",
   "id": "abea00c1",
   "metadata": {},
   "source": [
    "## Возраст"
   ]
  },
  {
   "cell_type": "code",
   "execution_count": 7,
   "id": "533fc0f7",
   "metadata": {},
   "outputs": [
    {
     "data": {
      "text/plain": [
       "1    276\n",
       "9     24\n",
       "Name: age, dtype: int64"
      ]
     },
     "execution_count": 7,
     "metadata": {},
     "output_type": "execute_result"
    }
   ],
   "source": [
    "data['age'].value_counts()"
   ]
  },
  {
   "cell_type": "code",
   "execution_count": 8,
   "id": "02661294",
   "metadata": {},
   "outputs": [
    {
     "name": "stdout",
     "output_type": "stream",
     "text": [
      "Мода: 1\n",
      "Медиана: 1.0\n"
     ]
    }
   ],
   "source": [
    "print('Мода:',data['age'].mode()[0])\n",
    "print('Медиана:', data['age'].quantile(0.5))"
   ]
  },
  {
   "cell_type": "code",
   "execution_count": 9,
   "id": "78f7592b",
   "metadata": {},
   "outputs": [
    {
     "name": "stdout",
     "output_type": "stream",
     "text": [
      "1.0    0.75\n",
      "2.0    0.25\n",
      "Name: surgery, dtype: float64\n",
      "1.0    0.589091\n",
      "2.0    0.410909\n",
      "Name: surgery, dtype: float64\n"
     ]
    }
   ],
   "source": [
    "print(data.loc[data.age == 9,'surgery'].value_counts(normalize=True))\n",
    "print (data.loc[data.age == 1,'surgery'].value_counts(normalize=True))"
   ]
  },
  {
   "cell_type": "markdown",
   "id": "239bbf96",
   "metadata": {},
   "source": [
    "Вывод: По нашим данным в столбце могут быть значения только  1 = Adult horse или 2 = Young (< 6 months), поэтому считаем, что 9 это опечатка и нужно заменить значение на 2. Кажется, если лошадь меньше 6 месяцев, то вероятность операции возрастает, но выборка слишком маленькая, чтобы можно было сделать точные выводы."
   ]
  },
  {
   "cell_type": "markdown",
   "id": "86014c34",
   "metadata": {},
   "source": [
    "## Температура"
   ]
  },
  {
   "cell_type": "code",
   "execution_count": 10,
   "id": "28227c87",
   "metadata": {},
   "outputs": [
    {
     "name": "stdout",
     "output_type": "stream",
     "text": [
      "min    35.4\n",
      "max    40.8\n",
      "Name: rectal temperature, dtype: float64\n"
     ]
    }
   ],
   "source": [
    "print(data['rectal temperature'].agg(['min','max']))"
   ]
  },
  {
   "cell_type": "code",
   "execution_count": 11,
   "id": "0d3213c1",
   "metadata": {},
   "outputs": [
    {
     "name": "stdout",
     "output_type": "stream",
     "text": [
      "Мода: 38.0\n",
      "Медиана: 38.2\n",
      "Отклонение: 0.7322886641121578\n",
      "Нижний выброс: 36.74999999999999\n",
      "Верхний выброс: 39.550000000000004\n"
     ]
    }
   ],
   "source": [
    "print('Мода:',data['rectal temperature'].mode()[0])\n",
    "print('Медиана:', data['rectal temperature'].quantile(0.5))\n",
    "\n",
    "\n",
    "iqr = data['rectal temperature'].quantile(0.75) - data['rectal temperature'].quantile(0.25)\n",
    "print('Отклонение:',data['rectal temperature'].std() )\n",
    "print('Нижний выброс:',data['rectal temperature'].quantile(0.25) - (1.5 * iqr))\n",
    "print('Верхний выброс:', data['rectal temperature'].quantile(0.75) + (1.5 * iqr))"
   ]
  },
  {
   "cell_type": "markdown",
   "id": "87dcaa1f",
   "metadata": {},
   "source": [
    "Вывод: Нормальная температура 37,8, чаще всего на прием приходят с лошадьми у которых чуть повышенная температура - 38."
   ]
  },
  {
   "cell_type": "markdown",
   "id": "6483a76b",
   "metadata": {},
   "source": [
    "## Пульс"
   ]
  },
  {
   "cell_type": "code",
   "execution_count": 12,
   "id": "dd172f54",
   "metadata": {},
   "outputs": [
    {
     "name": "stdout",
     "output_type": "stream",
     "text": [
      "min     30.0\n",
      "max    184.0\n",
      "Name: pulse, dtype: float64\n"
     ]
    }
   ],
   "source": [
    "print(data['pulse'].agg(['min','max']))"
   ]
  },
  {
   "cell_type": "code",
   "execution_count": 13,
   "id": "bc904d15",
   "metadata": {},
   "outputs": [
    {
     "name": "stdout",
     "output_type": "stream",
     "text": [
      "Мода: 48.0\n",
      "Медиана: 64.0\n",
      "Отклонение: 28.630556660735003\n",
      "Нижний выброс: -12.0\n",
      "Верхний выброс: 148.0\n"
     ]
    }
   ],
   "source": [
    "print('Мода:',data['pulse'].mode()[0])\n",
    "print('Медиана:', data['pulse'].quantile(0.5))\n",
    "\n",
    "\n",
    "iqr = data['pulse'].quantile(0.75) - data['pulse'].quantile(0.25)\n",
    "print('Отклонение:',data['pulse'].std() )\n",
    "print('Нижний выброс:',data['pulse'].quantile(0.25) - (1.5 * iqr))\n",
    "print('Верхний выброс:', data['pulse'].quantile(0.75) + (1.5 * iqr))"
   ]
  },
  {
   "cell_type": "markdown",
   "id": "bd0f50fb",
   "metadata": {},
   "source": [
    "Вывод: Нормальный пульс считается 30-40 для взрослых лошадей, у маленьких может быть понижен. В целом повышенный пульс свидетельствуют о болезненности. В нашей выборке лошади чаще всего с повышенным пульсом."
   ]
  },
  {
   "cell_type": "markdown",
   "id": "571ea0a2",
   "metadata": {},
   "source": [
    "##  Частота дыхания"
   ]
  },
  {
   "cell_type": "code",
   "execution_count": 14,
   "id": "22601af3",
   "metadata": {},
   "outputs": [
    {
     "name": "stdout",
     "output_type": "stream",
     "text": [
      "min     8.0\n",
      "max    96.0\n",
      "Name: respiratory rate, dtype: float64\n"
     ]
    }
   ],
   "source": [
    "print(data['respiratory rate'].agg(['min','max']))"
   ]
  },
  {
   "cell_type": "code",
   "execution_count": 15,
   "id": "664252ca",
   "metadata": {},
   "outputs": [
    {
     "name": "stdout",
     "output_type": "stream",
     "text": [
      "Мода: 20.0\n",
      "Медиана: 24.5\n",
      "Отклонение: 17.642231385134664\n",
      "Нижний выброс: -85.75\n",
      "Верхний выброс: 140.25\n"
     ]
    }
   ],
   "source": [
    "print('Мода:',data['respiratory rate'].mode()[0])\n",
    "print('Медиана:', data['respiratory rate'].quantile(0.5))\n",
    "\n",
    "\n",
    "iqr = data['pulse'].quantile(0.75) - data['respiratory rate'].quantile(0.25)\n",
    "print('Отклонение:',data['respiratory rate'].std() )\n",
    "print('Нижний выброс:',data['respiratory rate'].quantile(0.25) - (1.5 * iqr))\n",
    "print('Верхний выброс:', data['respiratory rate'].quantile(0.75) + (1.5 * iqr))"
   ]
  },
  {
   "cell_type": "markdown",
   "id": "d5dfd19f",
   "metadata": {},
   "source": [
    "## Температура конечностей"
   ]
  },
  {
   "cell_type": "code",
   "execution_count": 16,
   "id": "a05852df",
   "metadata": {},
   "outputs": [
    {
     "data": {
      "text/plain": [
       "3.0    109\n",
       "1.0     78\n",
       "2.0     30\n",
       "4.0     27\n",
       "Name: temperature of extremities, dtype: int64"
      ]
     },
     "execution_count": 16,
     "metadata": {},
     "output_type": "execute_result"
    }
   ],
   "source": [
    "data['temperature of extremities'].value_counts()"
   ]
  },
  {
   "cell_type": "code",
   "execution_count": 17,
   "id": "c77fd621",
   "metadata": {},
   "outputs": [
    {
     "name": "stdout",
     "output_type": "stream",
     "text": [
      "Мода: 3.0\n",
      "Медиана: 3.0\n"
     ]
    }
   ],
   "source": [
    "print('Мода:',data['temperature of extremities'].mode()[0])\n",
    "print('Медиана:', data['temperature of extremities'].quantile(0.5))"
   ]
  },
  {
   "cell_type": "markdown",
   "id": "f981bd72",
   "metadata": {},
   "source": [
    "Вывод: Чаще всего встречается повышенная температура. Она должна коррелировать с температурой тела."
   ]
  },
  {
   "cell_type": "markdown",
   "id": "f9424760",
   "metadata": {},
   "source": [
    "## Боль"
   ]
  },
  {
   "cell_type": "code",
   "execution_count": 18,
   "id": "144008aa",
   "metadata": {},
   "outputs": [
    {
     "data": {
      "text/plain": [
       "3.0    67\n",
       "2.0    59\n",
       "5.0    42\n",
       "4.0    39\n",
       "1.0    38\n",
       "Name: pain, dtype: int64"
      ]
     },
     "execution_count": 18,
     "metadata": {},
     "output_type": "execute_result"
    }
   ],
   "source": [
    "data['pain'].value_counts()"
   ]
  },
  {
   "cell_type": "code",
   "execution_count": 19,
   "id": "5c3b4665",
   "metadata": {},
   "outputs": [
    {
     "name": "stdout",
     "output_type": "stream",
     "text": [
      "Мода: 3.0\n",
      "Медиана: 3.0\n"
     ]
    }
   ],
   "source": [
    "print('Мода:',data['pain'].mode()[0])\n",
    "print('Медиана:', data['pain'].quantile(0.5))"
   ]
  },
  {
   "cell_type": "markdown",
   "id": "745d111e",
   "metadata": {},
   "source": [
    "Вывод: Чаще всего встречается периодическая легкая боль. Кажется уровень боли должен коррелировать с операциями."
   ]
  },
  {
   "cell_type": "markdown",
   "id": "333b628f",
   "metadata": {},
   "source": [
    "##  Смерть"
   ]
  },
  {
   "cell_type": "code",
   "execution_count": 20,
   "id": "001999be",
   "metadata": {},
   "outputs": [
    {
     "data": {
      "text/plain": [
       "1.0    178\n",
       "2.0     77\n",
       "3.0     44\n",
       "Name: outcome, dtype: int64"
      ]
     },
     "execution_count": 20,
     "metadata": {},
     "output_type": "execute_result"
    }
   ],
   "source": [
    "data['outcome'].value_counts()"
   ]
  },
  {
   "cell_type": "code",
   "execution_count": 21,
   "id": "c7df995f",
   "metadata": {},
   "outputs": [
    {
     "data": {
      "text/plain": [
       "1.0    0.527778\n",
       "2.0    0.322222\n",
       "3.0    0.150000\n",
       "Name: outcome, dtype: float64"
      ]
     },
     "execution_count": 21,
     "metadata": {},
     "output_type": "execute_result"
    }
   ],
   "source": [
    "data.loc[data.surgery == 1,'outcome'].value_counts(normalize=True)"
   ]
  },
  {
   "cell_type": "markdown",
   "id": "c67b623c",
   "metadata": {},
   "source": [
    "Вывод: 52% после операций поправляются. "
   ]
  },
  {
   "cell_type": "markdown",
   "id": "48c73c18",
   "metadata": {},
   "source": [
    "# Задание 3. Работа с пропусками\n",
    "Рассчитать количество пропусков для всех выбранных столбцов. Принять и обосновать решение о методе заполнения пропусков по каждому столбцу на основе рассчитанных статистик и возможной взаимосвязи значений в них. Сформировать датафрейм, в котором пропуски будут отсутствовать."
   ]
  },
  {
   "cell_type": "code",
   "execution_count": 23,
   "id": "c7124185",
   "metadata": {},
   "outputs": [
    {
     "name": "stdout",
     "output_type": "stream",
     "text": [
      "<class 'pandas.core.frame.DataFrame'>\n",
      "RangeIndex: 300 entries, 0 to 299\n",
      "Data columns (total 8 columns):\n",
      " #   Column                      Non-Null Count  Dtype  \n",
      "---  ------                      --------------  -----  \n",
      " 0   surgery                     299 non-null    float64\n",
      " 1   age                         300 non-null    int64  \n",
      " 2   rectal temperature          240 non-null    float64\n",
      " 3   pulse                       276 non-null    float64\n",
      " 4   respiratory rate            242 non-null    float64\n",
      " 5   temperature of extremities  244 non-null    float64\n",
      " 6   pain                        245 non-null    float64\n",
      " 7   outcome                     299 non-null    float64\n",
      "dtypes: float64(7), int64(1)\n",
      "memory usage: 18.9 KB\n"
     ]
    }
   ],
   "source": [
    "data.info()"
   ]
  },
  {
   "cell_type": "code",
   "execution_count": 24,
   "id": "6e10f110",
   "metadata": {
    "scrolled": true
   },
   "outputs": [
    {
     "data": {
      "text/plain": [
       "surgery                        1\n",
       "age                            0\n",
       "rectal temperature            60\n",
       "pulse                         24\n",
       "respiratory rate              58\n",
       "temperature of extremities    56\n",
       "pain                          55\n",
       "outcome                        1\n",
       "dtype: int64"
      ]
     },
     "execution_count": 24,
     "metadata": {},
     "output_type": "execute_result"
    }
   ],
   "source": [
    "data.isna().sum()"
   ]
  },
  {
   "cell_type": "markdown",
   "id": "1d3a3444",
   "metadata": {},
   "source": [
    "Вывод: <br>\n",
    "0 surgery - имеет 1 пропуск - нужно посмотреть какие данные отсутствуют и принять решение:  удалить или заполнить медианой по группе<br>\n",
    "1 age - нет пропусков<br>\n",
    "2 rectal temperature - 60 пропусков. Нужно посмотреть какие данные отсутствуют и принять решение: удалить или заполнить медианой по группе<br>\n",
    "3 pulse - 24 пропуска. Нужно посмотреть какие данные отсутствуют и принять решение: удалить или заполнить медианой по группе<br>\n",
    "4 respiratory rate - 58 пропусков, так как данный столбец сомнительно полезный из-за большой частоты колебаний, можно заполнить медианой<br>\n",
    "5 temperature of extremities - 56 пропусков. Можно заполнить медианой по группе, так как значение коррелирует с температурой тела<br>\n",
    "6 pain - субъективные данные об уровне боли лошади, можно заполить медианой<br>\n",
    "7 outcome  - 1 пропуск, думаю можно удалить, так как показатель выжный и может исказить результаты анализы при заполнении похожими/средними.<br>"
   ]
  },
  {
   "cell_type": "markdown",
   "id": "5d96807c",
   "metadata": {},
   "source": [
    "Удалим данные, где отсутсвуют 5 значений из 7"
   ]
  },
  {
   "cell_type": "code",
   "execution_count": 25,
   "id": "a1b8c1e5",
   "metadata": {},
   "outputs": [],
   "source": [
    "data.dropna(thresh=5, inplace=True)"
   ]
  },
  {
   "cell_type": "markdown",
   "id": "c9f5cdb7",
   "metadata": {},
   "source": [
    "## Операции"
   ]
  },
  {
   "cell_type": "code",
   "execution_count": 26,
   "id": "7cb837b6",
   "metadata": {},
   "outputs": [
    {
     "data": {
      "text/html": [
       "<div>\n",
       "<style scoped>\n",
       "    .dataframe tbody tr th:only-of-type {\n",
       "        vertical-align: middle;\n",
       "    }\n",
       "\n",
       "    .dataframe tbody tr th {\n",
       "        vertical-align: top;\n",
       "    }\n",
       "\n",
       "    .dataframe thead th {\n",
       "        text-align: right;\n",
       "    }\n",
       "</style>\n",
       "<table border=\"1\" class=\"dataframe\">\n",
       "  <thead>\n",
       "    <tr style=\"text-align: right;\">\n",
       "      <th></th>\n",
       "      <th>surgery</th>\n",
       "      <th>age</th>\n",
       "      <th>rectal temperature</th>\n",
       "      <th>pulse</th>\n",
       "      <th>respiratory rate</th>\n",
       "      <th>temperature of extremities</th>\n",
       "      <th>pain</th>\n",
       "      <th>outcome</th>\n",
       "    </tr>\n",
       "  </thead>\n",
       "  <tbody>\n",
       "    <tr>\n",
       "      <th>132</th>\n",
       "      <td>NaN</td>\n",
       "      <td>1</td>\n",
       "      <td>38.0</td>\n",
       "      <td>48.0</td>\n",
       "      <td>20.0</td>\n",
       "      <td>3.0</td>\n",
       "      <td>4.0</td>\n",
       "      <td>NaN</td>\n",
       "    </tr>\n",
       "  </tbody>\n",
       "</table>\n",
       "</div>"
      ],
      "text/plain": [
       "     surgery  age  rectal temperature  pulse  respiratory rate  \\\n",
       "132      NaN    1                38.0   48.0              20.0   \n",
       "\n",
       "     temperature of extremities  pain  outcome  \n",
       "132                         3.0   4.0      NaN  "
      ]
     },
     "execution_count": 26,
     "metadata": {},
     "output_type": "execute_result"
    }
   ],
   "source": [
    "data[data['surgery'].isna() == True]"
   ]
  },
  {
   "cell_type": "markdown",
   "id": "1f020228",
   "metadata": {},
   "source": [
    "Так как отсутсвует важная информация по наличию операции и смертности, то имеет смысл удалить строчку, чтобы не искажать данные"
   ]
  },
  {
   "cell_type": "code",
   "execution_count": 27,
   "id": "2f7a4a05",
   "metadata": {},
   "outputs": [],
   "source": [
    "data.dropna(subset = ['surgery'], inplace = True)"
   ]
  },
  {
   "cell_type": "markdown",
   "id": "86b3a06c",
   "metadata": {},
   "source": [
    "## Возраст"
   ]
  },
  {
   "cell_type": "code",
   "execution_count": 28,
   "id": "2e0bbc39",
   "metadata": {},
   "outputs": [],
   "source": [
    "data.replace(9, 2, inplace = True)"
   ]
  },
  {
   "cell_type": "markdown",
   "id": "84b1ab49",
   "metadata": {},
   "source": [
    "Заменяем значение 9 на 2."
   ]
  },
  {
   "cell_type": "markdown",
   "id": "6c6d8029",
   "metadata": {},
   "source": [
    "## Температура"
   ]
  },
  {
   "cell_type": "markdown",
   "id": "cf64586b",
   "metadata": {},
   "source": [
    "Заполним данные по группам: \n",
    "1) У кого не было операции и кто выжил заполним медианой такой же группы\n"
   ]
  },
  {
   "cell_type": "code",
   "execution_count": 29,
   "id": "587e187e",
   "metadata": {},
   "outputs": [
    {
     "data": {
      "text/plain": [
       "38.25"
      ]
     },
     "execution_count": 29,
     "metadata": {},
     "output_type": "execute_result"
    }
   ],
   "source": [
    "data.loc[(data['surgery']== 2) & (data['outcome']== 1) ,'rectal temperature'].median()"
   ]
  },
  {
   "cell_type": "code",
   "execution_count": 30,
   "id": "bf73b6c6",
   "metadata": {},
   "outputs": [],
   "source": [
    "data.loc[(data['surgery']== 2) & (data['outcome']== 1) & (data['rectal temperature'].isna() == True),'rectal temperature'] = 38.25"
   ]
  },
  {
   "cell_type": "markdown",
   "id": "0d8d9d3d",
   "metadata": {},
   "source": [
    "2) Заполним данные по группа исходя из температуры конечностей"
   ]
  },
  {
   "cell_type": "code",
   "execution_count": 31,
   "id": "66ea28bb",
   "metadata": {},
   "outputs": [
    {
     "name": "stdout",
     "output_type": "stream",
     "text": [
      "temperature of extremities\n",
      "1.0    38.200\n",
      "2.0    38.225\n",
      "3.0    38.150\n",
      "4.0    38.350\n",
      "Name: rectal temperature, dtype: float64\n"
     ]
    }
   ],
   "source": [
    "print(data.groupby(['temperature of extremities'])['rectal temperature'].median())"
   ]
  },
  {
   "cell_type": "code",
   "execution_count": 32,
   "id": "88a2cd1d",
   "metadata": {},
   "outputs": [],
   "source": [
    "data.loc[(data['temperature of extremities'] == 1) & (data['rectal temperature'].isna() == True),'rectal temperature'] = 38.2\n",
    "data.loc[(data['temperature of extremities'] == 2) & (data['rectal temperature'].isna() == True),'rectal temperature'] = 38.2\n",
    "data.loc[(data['temperature of extremities'] == 3) & (data['rectal temperature'].isna() == True),'rectal temperature'] = 38.1\n",
    "data.loc[(data['temperature of extremities'] == 4) & (data['rectal temperature'].isna() == True),'rectal temperature']= 38.35"
   ]
  },
  {
   "cell_type": "markdown",
   "id": "a16b6ddf",
   "metadata": {},
   "source": [
    "3) Оставшиеся данные удалим, так как нет значений между которыми существует корреляция"
   ]
  },
  {
   "cell_type": "code",
   "execution_count": 33,
   "id": "c1a99ff3",
   "metadata": {},
   "outputs": [
    {
     "data": {
      "text/html": [
       "<div>\n",
       "<style scoped>\n",
       "    .dataframe tbody tr th:only-of-type {\n",
       "        vertical-align: middle;\n",
       "    }\n",
       "\n",
       "    .dataframe tbody tr th {\n",
       "        vertical-align: top;\n",
       "    }\n",
       "\n",
       "    .dataframe thead th {\n",
       "        text-align: right;\n",
       "    }\n",
       "</style>\n",
       "<table border=\"1\" class=\"dataframe\">\n",
       "  <thead>\n",
       "    <tr style=\"text-align: right;\">\n",
       "      <th></th>\n",
       "      <th>surgery</th>\n",
       "      <th>age</th>\n",
       "      <th>rectal temperature</th>\n",
       "      <th>pulse</th>\n",
       "      <th>respiratory rate</th>\n",
       "      <th>temperature of extremities</th>\n",
       "      <th>pain</th>\n",
       "      <th>outcome</th>\n",
       "    </tr>\n",
       "  </thead>\n",
       "  <tbody>\n",
       "    <tr>\n",
       "      <th>87</th>\n",
       "      <td>2.0</td>\n",
       "      <td>1</td>\n",
       "      <td>NaN</td>\n",
       "      <td>40.0</td>\n",
       "      <td>16.0</td>\n",
       "      <td>NaN</td>\n",
       "      <td>NaN</td>\n",
       "      <td>3.0</td>\n",
       "    </tr>\n",
       "    <tr>\n",
       "      <th>169</th>\n",
       "      <td>1.0</td>\n",
       "      <td>1</td>\n",
       "      <td>NaN</td>\n",
       "      <td>65.0</td>\n",
       "      <td>24.0</td>\n",
       "      <td>NaN</td>\n",
       "      <td>5.0</td>\n",
       "      <td>3.0</td>\n",
       "    </tr>\n",
       "    <tr>\n",
       "      <th>177</th>\n",
       "      <td>1.0</td>\n",
       "      <td>1</td>\n",
       "      <td>NaN</td>\n",
       "      <td>68.0</td>\n",
       "      <td>14.0</td>\n",
       "      <td>NaN</td>\n",
       "      <td>4.0</td>\n",
       "      <td>2.0</td>\n",
       "    </tr>\n",
       "  </tbody>\n",
       "</table>\n",
       "</div>"
      ],
      "text/plain": [
       "     surgery  age  rectal temperature  pulse  respiratory rate  \\\n",
       "87       2.0    1                 NaN   40.0              16.0   \n",
       "169      1.0    1                 NaN   65.0              24.0   \n",
       "177      1.0    1                 NaN   68.0              14.0   \n",
       "\n",
       "     temperature of extremities  pain  outcome  \n",
       "87                          NaN   NaN      3.0  \n",
       "169                         NaN   5.0      3.0  \n",
       "177                         NaN   4.0      2.0  "
      ]
     },
     "execution_count": 33,
     "metadata": {},
     "output_type": "execute_result"
    }
   ],
   "source": [
    "data[data['rectal temperature'].isna() == True]"
   ]
  },
  {
   "cell_type": "code",
   "execution_count": 34,
   "id": "b2a04115",
   "metadata": {},
   "outputs": [],
   "source": [
    "data.dropna(subset = ['rectal temperature'], inplace = True)"
   ]
  },
  {
   "cell_type": "markdown",
   "id": "e0de3df0",
   "metadata": {},
   "source": [
    "## Пульс"
   ]
  },
  {
   "cell_type": "markdown",
   "id": "e7d5c2f9",
   "metadata": {},
   "source": [
    "Так как пульс коррелирует с общим состоянием животного, то будем заполнять медианой по группам от температуры конечностей (в идеале использовать температуру тела и разбить на много групп, чтобы для каждой заполнить свой пульс, но в рамках текущей задачи и если учитывать, что температура конечностей коррелирует с температурой тела, этого будет достаточно)"
   ]
  },
  {
   "cell_type": "code",
   "execution_count": 35,
   "id": "d04f046e",
   "metadata": {},
   "outputs": [
    {
     "name": "stdout",
     "output_type": "stream",
     "text": [
      "temperature of extremities\n",
      "1.0    48.0\n",
      "2.0    48.0\n",
      "3.0    60.0\n",
      "4.0    72.0\n",
      "Name: pulse, dtype: float64\n",
      "temperature of extremities\n",
      "1.0    54.0\n",
      "2.0    56.0\n",
      "3.0    80.0\n",
      "4.0    90.0\n",
      "Name: pulse, dtype: float64\n",
      "temperature of extremities\n",
      "1.0     66.0\n",
      "2.0     68.0\n",
      "3.0     97.5\n",
      "4.0    120.0\n",
      "Name: pulse, dtype: float64\n"
     ]
    }
   ],
   "source": [
    "print(data.groupby('temperature of extremities')['pulse'].quantile(0.25))\n",
    "print(data.groupby('temperature of extremities')['pulse'].quantile(0.5))\n",
    "print(data.groupby('temperature of extremities')['pulse'].quantile(0.75))"
   ]
  },
  {
   "cell_type": "code",
   "execution_count": 37,
   "id": "5c64493a",
   "metadata": {},
   "outputs": [],
   "source": [
    "data.loc[(data['temperature of extremities'] ==1 ) & (data['pulse'].isna() == True),'pulse'] = 53.0\n",
    "data.loc[(data['temperature of extremities'] ==2 ) & (data['pulse'].isna() == True),'pulse'] = 56.0\n",
    "data.loc[(data['temperature of extremities'] ==3 ) & (data['pulse'].isna() == True),'pulse'] = 80.0\n",
    "data.loc[(data['temperature of extremities'] ==4 ) & (data['pulse'].isna() == True),'pulse'] = 88.0"
   ]
  },
  {
   "cell_type": "code",
   "execution_count": 38,
   "id": "56d274ed",
   "metadata": {},
   "outputs": [
    {
     "data": {
      "text/html": [
       "<div>\n",
       "<style scoped>\n",
       "    .dataframe tbody tr th:only-of-type {\n",
       "        vertical-align: middle;\n",
       "    }\n",
       "\n",
       "    .dataframe tbody tr th {\n",
       "        vertical-align: top;\n",
       "    }\n",
       "\n",
       "    .dataframe thead th {\n",
       "        text-align: right;\n",
       "    }\n",
       "</style>\n",
       "<table border=\"1\" class=\"dataframe\">\n",
       "  <thead>\n",
       "    <tr style=\"text-align: right;\">\n",
       "      <th></th>\n",
       "      <th>surgery</th>\n",
       "      <th>age</th>\n",
       "      <th>rectal temperature</th>\n",
       "      <th>pulse</th>\n",
       "      <th>respiratory rate</th>\n",
       "      <th>temperature of extremities</th>\n",
       "      <th>pain</th>\n",
       "      <th>outcome</th>\n",
       "    </tr>\n",
       "  </thead>\n",
       "  <tbody>\n",
       "  </tbody>\n",
       "</table>\n",
       "</div>"
      ],
      "text/plain": [
       "Empty DataFrame\n",
       "Columns: [surgery, age, rectal temperature, pulse, respiratory rate, temperature of extremities, pain, outcome]\n",
       "Index: []"
      ]
     },
     "execution_count": 38,
     "metadata": {},
     "output_type": "execute_result"
    }
   ],
   "source": [
    "data[data['pulse'].isna() == True]"
   ]
  },
  {
   "cell_type": "markdown",
   "id": "6a0a1cc4",
   "metadata": {},
   "source": [
    "## Частота дыхания"
   ]
  },
  {
   "cell_type": "code",
   "execution_count": 39,
   "id": "acd0f66d",
   "metadata": {},
   "outputs": [],
   "source": [
    "data['respiratory rate'].fillna(data['respiratory rate'].median(), inplace=True)"
   ]
  },
  {
   "cell_type": "markdown",
   "id": "d7ba0ba1",
   "metadata": {},
   "source": [
    "## Температура конечностей"
   ]
  },
  {
   "cell_type": "code",
   "execution_count": 40,
   "id": "f4523235",
   "metadata": {},
   "outputs": [
    {
     "name": "stdout",
     "output_type": "stream",
     "text": [
      "temperature of extremities\n",
      "1.0    37.800\n",
      "2.0    37.925\n",
      "3.0    37.975\n",
      "4.0    38.200\n",
      "Name: rectal temperature, dtype: float64\n",
      "temperature of extremities\n",
      "1.0    38.20\n",
      "2.0    38.20\n",
      "3.0    38.10\n",
      "4.0    38.35\n",
      "Name: rectal temperature, dtype: float64\n",
      "temperature of extremities\n",
      "1.0    38.4\n",
      "2.0    38.6\n",
      "3.0    38.5\n",
      "4.0    38.6\n",
      "Name: rectal temperature, dtype: float64\n"
     ]
    }
   ],
   "source": [
    "print(data.groupby('temperature of extremities')['rectal temperature'].quantile(0.25))\n",
    "print(data.groupby('temperature of extremities')['rectal temperature'].quantile(0.5))\n",
    "print(data.groupby('temperature of extremities')['rectal temperature'].quantile(0.75))"
   ]
  },
  {
   "cell_type": "markdown",
   "id": "e60472e2",
   "metadata": {},
   "source": [
    "Заполним температуру конечностей исходя из промежутков температуры тела"
   ]
  },
  {
   "cell_type": "code",
   "execution_count": 43,
   "id": "6bdfe23d",
   "metadata": {},
   "outputs": [],
   "source": [
    "data.loc[(data['rectal temperature'] >= 36.00) & (data['rectal temperature'] <= 38.10)& (data['temperature of extremities'].isna() == True),'temperature of extremities'] = 3\n",
    "data.loc[(data['rectal temperature'] > 38.10) & (data['rectal temperature'] <= 38.15)& (data['temperature of extremities'].isna() == True),'temperature of extremities'] = 1\n",
    "data.loc[(data['rectal temperature'] > 38.15) & (data['rectal temperature'] <= 38.20)& (data['temperature of extremities'].isna() == True),'temperature of extremities'] = 2\n",
    "data.loc[(data['rectal temperature'] > 38.20) & (data['rectal temperature'] <= 40.00)& (data['temperature of extremities'].isna() == True),'temperature of extremities'] = 4"
   ]
  },
  {
   "cell_type": "code",
   "execution_count": 44,
   "id": "6734c62c",
   "metadata": {},
   "outputs": [
    {
     "data": {
      "text/html": [
       "<div>\n",
       "<style scoped>\n",
       "    .dataframe tbody tr th:only-of-type {\n",
       "        vertical-align: middle;\n",
       "    }\n",
       "\n",
       "    .dataframe tbody tr th {\n",
       "        vertical-align: top;\n",
       "    }\n",
       "\n",
       "    .dataframe thead th {\n",
       "        text-align: right;\n",
       "    }\n",
       "</style>\n",
       "<table border=\"1\" class=\"dataframe\">\n",
       "  <thead>\n",
       "    <tr style=\"text-align: right;\">\n",
       "      <th></th>\n",
       "      <th>surgery</th>\n",
       "      <th>age</th>\n",
       "      <th>rectal temperature</th>\n",
       "      <th>pulse</th>\n",
       "      <th>respiratory rate</th>\n",
       "      <th>temperature of extremities</th>\n",
       "      <th>pain</th>\n",
       "      <th>outcome</th>\n",
       "    </tr>\n",
       "  </thead>\n",
       "  <tbody>\n",
       "  </tbody>\n",
       "</table>\n",
       "</div>"
      ],
      "text/plain": [
       "Empty DataFrame\n",
       "Columns: [surgery, age, rectal temperature, pulse, respiratory rate, temperature of extremities, pain, outcome]\n",
       "Index: []"
      ]
     },
     "execution_count": 44,
     "metadata": {},
     "output_type": "execute_result"
    }
   ],
   "source": [
    "data[data['temperature of extremities'].isna() == True]"
   ]
  },
  {
   "cell_type": "markdown",
   "id": "12d281dc",
   "metadata": {},
   "source": [
    "## Боль"
   ]
  },
  {
   "cell_type": "code",
   "execution_count": 45,
   "id": "859fdf0e",
   "metadata": {},
   "outputs": [
    {
     "name": "stdout",
     "output_type": "stream",
     "text": [
      "surgery\n",
      "1.0    3.0\n",
      "2.0    2.0\n",
      "Name: pain, dtype: float64\n"
     ]
    }
   ],
   "source": [
    "print(data.groupby('surgery')['pain'].median())"
   ]
  },
  {
   "cell_type": "code",
   "execution_count": 46,
   "id": "827d036d",
   "metadata": {},
   "outputs": [],
   "source": [
    "#Запросы с loc и fillna и группировой и fillna не работают, не подскажите почему?\n",
    "#data.loc[data['surgery']==1,'pain'].fillna(data.data['surgery']==1].median(), inplace=True)\n",
    "#data['pain'].fillna(data.groupby('surgery')['pain'].median(), inplace=True)"
   ]
  },
  {
   "cell_type": "code",
   "execution_count": 47,
   "id": "cd6d74d2",
   "metadata": {},
   "outputs": [],
   "source": [
    "data.loc[(data['surgery']==1) & (data['pain'].isna() == True),'pain'] = 3\n",
    "data.loc[(data['surgery']==2) & (data['pain'].isna() == True),'pain'] = 2"
   ]
  },
  {
   "cell_type": "markdown",
   "id": "b7ebdc52",
   "metadata": {},
   "source": [
    "##  Смерть"
   ]
  },
  {
   "cell_type": "code",
   "execution_count": 48,
   "id": "f64fc426",
   "metadata": {},
   "outputs": [
    {
     "data": {
      "text/html": [
       "<div>\n",
       "<style scoped>\n",
       "    .dataframe tbody tr th:only-of-type {\n",
       "        vertical-align: middle;\n",
       "    }\n",
       "\n",
       "    .dataframe tbody tr th {\n",
       "        vertical-align: top;\n",
       "    }\n",
       "\n",
       "    .dataframe thead th {\n",
       "        text-align: right;\n",
       "    }\n",
       "</style>\n",
       "<table border=\"1\" class=\"dataframe\">\n",
       "  <thead>\n",
       "    <tr style=\"text-align: right;\">\n",
       "      <th></th>\n",
       "      <th>surgery</th>\n",
       "      <th>age</th>\n",
       "      <th>rectal temperature</th>\n",
       "      <th>pulse</th>\n",
       "      <th>respiratory rate</th>\n",
       "      <th>temperature of extremities</th>\n",
       "      <th>pain</th>\n",
       "      <th>outcome</th>\n",
       "    </tr>\n",
       "  </thead>\n",
       "  <tbody>\n",
       "  </tbody>\n",
       "</table>\n",
       "</div>"
      ],
      "text/plain": [
       "Empty DataFrame\n",
       "Columns: [surgery, age, rectal temperature, pulse, respiratory rate, temperature of extremities, pain, outcome]\n",
       "Index: []"
      ]
     },
     "execution_count": 48,
     "metadata": {},
     "output_type": "execute_result"
    }
   ],
   "source": [
    "data[data['outcome'].isna() == True]"
   ]
  },
  {
   "cell_type": "markdown",
   "id": "741334ed",
   "metadata": {},
   "source": [
    "Данный пропуск был удален ранее"
   ]
  },
  {
   "cell_type": "markdown",
   "id": "f15ace6a",
   "metadata": {},
   "source": [
    "## Финальный датафрейм"
   ]
  },
  {
   "cell_type": "code",
   "execution_count": 49,
   "id": "0764a2bb",
   "metadata": {},
   "outputs": [
    {
     "name": "stdout",
     "output_type": "stream",
     "text": [
      "<class 'pandas.core.frame.DataFrame'>\n",
      "Int64Index: 286 entries, 0 to 299\n",
      "Data columns (total 8 columns):\n",
      " #   Column                      Non-Null Count  Dtype  \n",
      "---  ------                      --------------  -----  \n",
      " 0   surgery                     286 non-null    float64\n",
      " 1   age                         286 non-null    int64  \n",
      " 2   rectal temperature          286 non-null    float64\n",
      " 3   pulse                       286 non-null    float64\n",
      " 4   respiratory rate            286 non-null    float64\n",
      " 5   temperature of extremities  286 non-null    float64\n",
      " 6   pain                        286 non-null    float64\n",
      " 7   outcome                     286 non-null    float64\n",
      "dtypes: float64(7), int64(1)\n",
      "memory usage: 20.1 KB\n"
     ]
    }
   ],
   "source": [
    "data.info()"
   ]
  },
  {
   "cell_type": "code",
   "execution_count": 50,
   "id": "3db5aef2",
   "metadata": {},
   "outputs": [
    {
     "data": {
      "text/html": [
       "<div>\n",
       "<style scoped>\n",
       "    .dataframe tbody tr th:only-of-type {\n",
       "        vertical-align: middle;\n",
       "    }\n",
       "\n",
       "    .dataframe tbody tr th {\n",
       "        vertical-align: top;\n",
       "    }\n",
       "\n",
       "    .dataframe thead th {\n",
       "        text-align: right;\n",
       "    }\n",
       "</style>\n",
       "<table border=\"1\" class=\"dataframe\">\n",
       "  <thead>\n",
       "    <tr style=\"text-align: right;\">\n",
       "      <th></th>\n",
       "      <th>surgery</th>\n",
       "      <th>age</th>\n",
       "      <th>rectal temperature</th>\n",
       "      <th>pulse</th>\n",
       "      <th>respiratory rate</th>\n",
       "      <th>temperature of extremities</th>\n",
       "      <th>pain</th>\n",
       "      <th>outcome</th>\n",
       "    </tr>\n",
       "  </thead>\n",
       "  <tbody>\n",
       "    <tr>\n",
       "      <th>0</th>\n",
       "      <td>2.0</td>\n",
       "      <td>1</td>\n",
       "      <td>38.50</td>\n",
       "      <td>66.0</td>\n",
       "      <td>28.0</td>\n",
       "      <td>3.0</td>\n",
       "      <td>5.0</td>\n",
       "      <td>2.0</td>\n",
       "    </tr>\n",
       "    <tr>\n",
       "      <th>1</th>\n",
       "      <td>1.0</td>\n",
       "      <td>1</td>\n",
       "      <td>39.20</td>\n",
       "      <td>88.0</td>\n",
       "      <td>20.0</td>\n",
       "      <td>4.0</td>\n",
       "      <td>3.0</td>\n",
       "      <td>3.0</td>\n",
       "    </tr>\n",
       "    <tr>\n",
       "      <th>2</th>\n",
       "      <td>2.0</td>\n",
       "      <td>1</td>\n",
       "      <td>38.30</td>\n",
       "      <td>40.0</td>\n",
       "      <td>24.0</td>\n",
       "      <td>1.0</td>\n",
       "      <td>3.0</td>\n",
       "      <td>1.0</td>\n",
       "    </tr>\n",
       "    <tr>\n",
       "      <th>3</th>\n",
       "      <td>1.0</td>\n",
       "      <td>2</td>\n",
       "      <td>39.10</td>\n",
       "      <td>164.0</td>\n",
       "      <td>84.0</td>\n",
       "      <td>4.0</td>\n",
       "      <td>2.0</td>\n",
       "      <td>2.0</td>\n",
       "    </tr>\n",
       "    <tr>\n",
       "      <th>4</th>\n",
       "      <td>2.0</td>\n",
       "      <td>1</td>\n",
       "      <td>37.30</td>\n",
       "      <td>104.0</td>\n",
       "      <td>35.0</td>\n",
       "      <td>3.0</td>\n",
       "      <td>2.0</td>\n",
       "      <td>2.0</td>\n",
       "    </tr>\n",
       "    <tr>\n",
       "      <th>...</th>\n",
       "      <td>...</td>\n",
       "      <td>...</td>\n",
       "      <td>...</td>\n",
       "      <td>...</td>\n",
       "      <td>...</td>\n",
       "      <td>...</td>\n",
       "      <td>...</td>\n",
       "      <td>...</td>\n",
       "    </tr>\n",
       "    <tr>\n",
       "      <th>295</th>\n",
       "      <td>1.0</td>\n",
       "      <td>1</td>\n",
       "      <td>38.35</td>\n",
       "      <td>120.0</td>\n",
       "      <td>70.0</td>\n",
       "      <td>4.0</td>\n",
       "      <td>2.0</td>\n",
       "      <td>3.0</td>\n",
       "    </tr>\n",
       "    <tr>\n",
       "      <th>296</th>\n",
       "      <td>2.0</td>\n",
       "      <td>1</td>\n",
       "      <td>37.20</td>\n",
       "      <td>72.0</td>\n",
       "      <td>24.0</td>\n",
       "      <td>3.0</td>\n",
       "      <td>4.0</td>\n",
       "      <td>3.0</td>\n",
       "    </tr>\n",
       "    <tr>\n",
       "      <th>297</th>\n",
       "      <td>1.0</td>\n",
       "      <td>1</td>\n",
       "      <td>37.50</td>\n",
       "      <td>72.0</td>\n",
       "      <td>30.0</td>\n",
       "      <td>4.0</td>\n",
       "      <td>4.0</td>\n",
       "      <td>2.0</td>\n",
       "    </tr>\n",
       "    <tr>\n",
       "      <th>298</th>\n",
       "      <td>1.0</td>\n",
       "      <td>1</td>\n",
       "      <td>36.50</td>\n",
       "      <td>100.0</td>\n",
       "      <td>24.0</td>\n",
       "      <td>3.0</td>\n",
       "      <td>3.0</td>\n",
       "      <td>1.0</td>\n",
       "    </tr>\n",
       "    <tr>\n",
       "      <th>299</th>\n",
       "      <td>1.0</td>\n",
       "      <td>1</td>\n",
       "      <td>37.20</td>\n",
       "      <td>40.0</td>\n",
       "      <td>20.0</td>\n",
       "      <td>3.0</td>\n",
       "      <td>3.0</td>\n",
       "      <td>3.0</td>\n",
       "    </tr>\n",
       "  </tbody>\n",
       "</table>\n",
       "<p>286 rows × 8 columns</p>\n",
       "</div>"
      ],
      "text/plain": [
       "     surgery  age  rectal temperature  pulse  respiratory rate  \\\n",
       "0        2.0    1               38.50   66.0              28.0   \n",
       "1        1.0    1               39.20   88.0              20.0   \n",
       "2        2.0    1               38.30   40.0              24.0   \n",
       "3        1.0    2               39.10  164.0              84.0   \n",
       "4        2.0    1               37.30  104.0              35.0   \n",
       "..       ...  ...                 ...    ...               ...   \n",
       "295      1.0    1               38.35  120.0              70.0   \n",
       "296      2.0    1               37.20   72.0              24.0   \n",
       "297      1.0    1               37.50   72.0              30.0   \n",
       "298      1.0    1               36.50  100.0              24.0   \n",
       "299      1.0    1               37.20   40.0              20.0   \n",
       "\n",
       "     temperature of extremities  pain  outcome  \n",
       "0                           3.0   5.0      2.0  \n",
       "1                           4.0   3.0      3.0  \n",
       "2                           1.0   3.0      1.0  \n",
       "3                           4.0   2.0      2.0  \n",
       "4                           3.0   2.0      2.0  \n",
       "..                          ...   ...      ...  \n",
       "295                         4.0   2.0      3.0  \n",
       "296                         3.0   4.0      3.0  \n",
       "297                         4.0   4.0      2.0  \n",
       "298                         3.0   3.0      1.0  \n",
       "299                         3.0   3.0      3.0  \n",
       "\n",
       "[286 rows x 8 columns]"
      ]
     },
     "execution_count": 50,
     "metadata": {},
     "output_type": "execute_result"
    }
   ],
   "source": [
    "data"
   ]
  },
  {
   "cell_type": "code",
   "execution_count": null,
   "id": "4d293591",
   "metadata": {},
   "outputs": [],
   "source": []
  }
 ],
 "metadata": {
  "kernelspec": {
   "display_name": "Python 3",
   "language": "python",
   "name": "python3"
  },
  "language_info": {
   "codemirror_mode": {
    "name": "ipython",
    "version": 3
   },
   "file_extension": ".py",
   "mimetype": "text/x-python",
   "name": "python",
   "nbconvert_exporter": "python",
   "pygments_lexer": "ipython3",
   "version": "3.8.8"
  }
 },
 "nbformat": 4,
 "nbformat_minor": 5
}
