{
 "cells": [
  {
   "cell_type": "markdown",
   "id": "9379ef13",
   "metadata": {},
   "source": [
    "# Задание 1. Загрузка данных\n",
    "Изучить представленный набор данных на основе описания его столбцов, загрузить его и оставить 8 столбцов для дальнейшего изучения: surgery?, Age, rectal temperature, pulse, respiratory rate, temperature of extremities, pain, outcome."
   ]
  },
  {
   "cell_type": "code",
   "execution_count": 201,
   "id": "5575ea16",
   "metadata": {},
   "outputs": [],
   "source": [
    "import pandas as pd\n",
    "import numpy as np\n",
    "\n",
    "data = pd.read_csv('horse_data.csv')\n",
    "data.columns = range(1,29)\n",
    "data = data[[1,2,4,5,6,7,11,23]]\n",
    "data.columns=['surgery','age', 'rectal temperature', 'pulse', 'respiratory rate', 'temperature of extremities', 'pain', 'outcome']\n"
   ]
  },
  {
   "cell_type": "code",
   "execution_count": 202,
   "id": "7f2050f1",
   "metadata": {},
   "outputs": [
    {
     "data": {
      "text/html": [
       "<div>\n",
       "<style scoped>\n",
       "    .dataframe tbody tr th:only-of-type {\n",
       "        vertical-align: middle;\n",
       "    }\n",
       "\n",
       "    .dataframe tbody tr th {\n",
       "        vertical-align: top;\n",
       "    }\n",
       "\n",
       "    .dataframe thead th {\n",
       "        text-align: right;\n",
       "    }\n",
       "</style>\n",
       "<table border=\"1\" class=\"dataframe\">\n",
       "  <thead>\n",
       "    <tr style=\"text-align: right;\">\n",
       "      <th></th>\n",
       "      <th>surgery</th>\n",
       "      <th>age</th>\n",
       "      <th>rectal temperature</th>\n",
       "      <th>pulse</th>\n",
       "      <th>respiratory rate</th>\n",
       "      <th>temperature of extremities</th>\n",
       "      <th>pain</th>\n",
       "      <th>outcome</th>\n",
       "    </tr>\n",
       "  </thead>\n",
       "  <tbody>\n",
       "    <tr>\n",
       "      <th>0</th>\n",
       "      <td>1</td>\n",
       "      <td>1</td>\n",
       "      <td>39.2</td>\n",
       "      <td>88</td>\n",
       "      <td>20</td>\n",
       "      <td>NaN</td>\n",
       "      <td>3</td>\n",
       "      <td>3</td>\n",
       "    </tr>\n",
       "    <tr>\n",
       "      <th>1</th>\n",
       "      <td>2</td>\n",
       "      <td>1</td>\n",
       "      <td>38.30</td>\n",
       "      <td>40</td>\n",
       "      <td>24</td>\n",
       "      <td>1</td>\n",
       "      <td>3</td>\n",
       "      <td>1</td>\n",
       "    </tr>\n",
       "    <tr>\n",
       "      <th>2</th>\n",
       "      <td>1</td>\n",
       "      <td>9</td>\n",
       "      <td>39.10</td>\n",
       "      <td>164</td>\n",
       "      <td>84</td>\n",
       "      <td>4</td>\n",
       "      <td>2</td>\n",
       "      <td>2</td>\n",
       "    </tr>\n",
       "    <tr>\n",
       "      <th>3</th>\n",
       "      <td>2</td>\n",
       "      <td>1</td>\n",
       "      <td>37.30</td>\n",
       "      <td>104</td>\n",
       "      <td>35</td>\n",
       "      <td>NaN</td>\n",
       "      <td>NaN</td>\n",
       "      <td>2</td>\n",
       "    </tr>\n",
       "    <tr>\n",
       "      <th>4</th>\n",
       "      <td>2</td>\n",
       "      <td>1</td>\n",
       "      <td>NaN</td>\n",
       "      <td>NaN</td>\n",
       "      <td>NaN</td>\n",
       "      <td>2</td>\n",
       "      <td>2</td>\n",
       "      <td>1</td>\n",
       "    </tr>\n",
       "    <tr>\n",
       "      <th>5</th>\n",
       "      <td>1</td>\n",
       "      <td>1</td>\n",
       "      <td>37.90</td>\n",
       "      <td>48</td>\n",
       "      <td>16</td>\n",
       "      <td>1</td>\n",
       "      <td>3</td>\n",
       "      <td>1</td>\n",
       "    </tr>\n",
       "    <tr>\n",
       "      <th>6</th>\n",
       "      <td>1</td>\n",
       "      <td>1</td>\n",
       "      <td>NaN</td>\n",
       "      <td>60</td>\n",
       "      <td>NaN</td>\n",
       "      <td>3</td>\n",
       "      <td>NaN</td>\n",
       "      <td>2</td>\n",
       "    </tr>\n",
       "    <tr>\n",
       "      <th>7</th>\n",
       "      <td>2</td>\n",
       "      <td>1</td>\n",
       "      <td>NaN</td>\n",
       "      <td>80</td>\n",
       "      <td>36</td>\n",
       "      <td>3</td>\n",
       "      <td>4</td>\n",
       "      <td>3</td>\n",
       "    </tr>\n",
       "    <tr>\n",
       "      <th>8</th>\n",
       "      <td>2</td>\n",
       "      <td>9</td>\n",
       "      <td>38.30</td>\n",
       "      <td>90</td>\n",
       "      <td>NaN</td>\n",
       "      <td>1</td>\n",
       "      <td>5</td>\n",
       "      <td>1</td>\n",
       "    </tr>\n",
       "    <tr>\n",
       "      <th>9</th>\n",
       "      <td>1</td>\n",
       "      <td>1</td>\n",
       "      <td>38.10</td>\n",
       "      <td>66</td>\n",
       "      <td>12</td>\n",
       "      <td>3</td>\n",
       "      <td>3</td>\n",
       "      <td>1</td>\n",
       "    </tr>\n",
       "  </tbody>\n",
       "</table>\n",
       "</div>"
      ],
      "text/plain": [
       "  surgery  age rectal temperature pulse respiratory rate  \\\n",
       "0       1    1               39.2    88               20   \n",
       "1       2    1              38.30    40               24   \n",
       "2       1    9              39.10   164               84   \n",
       "3       2    1              37.30   104               35   \n",
       "4       2    1                NaN   NaN              NaN   \n",
       "5       1    1              37.90    48               16   \n",
       "6       1    1                NaN    60              NaN   \n",
       "7       2    1                NaN    80               36   \n",
       "8       2    9              38.30    90              NaN   \n",
       "9       1    1              38.10    66               12   \n",
       "\n",
       "  temperature of extremities pain outcome  \n",
       "0                        NaN    3       3  \n",
       "1                          1    3       1  \n",
       "2                          4    2       2  \n",
       "3                        NaN  NaN       2  \n",
       "4                          2    2       1  \n",
       "5                          1    3       1  \n",
       "6                          3  NaN       2  \n",
       "7                          3    4       3  \n",
       "8                          1    5       1  \n",
       "9                          3    3       1  "
      ]
     },
     "execution_count": 202,
     "metadata": {},
     "output_type": "execute_result"
    }
   ],
   "source": [
    "data.replace('?', np.nan, inplace = True)\n",
    "data.head(10)"
   ]
  },
  {
   "cell_type": "code",
   "execution_count": 203,
   "id": "490e2d6e",
   "metadata": {},
   "outputs": [
    {
     "data": {
      "text/plain": [
       "surgery                        1\n",
       "age                            0\n",
       "rectal temperature            60\n",
       "pulse                         24\n",
       "respiratory rate              58\n",
       "temperature of extremities    56\n",
       "pain                          55\n",
       "outcome                        1\n",
       "dtype: int64"
      ]
     },
     "execution_count": 203,
     "metadata": {},
     "output_type": "execute_result"
    }
   ],
   "source": [
    "#data = data.astype({'surgery': 'int64', 'rectal temperature': 'float64','pulse': 'int64','respiratory rate': 'int64','pain': 'int64','outcome': 'int64'})\n",
    "#data['temperature of extremities'] = pd.to_numeric(data['temperature of extremities'], errors='coerce')\n",
    "# Surgery \n",
    "data.isna().sum()\n"
   ]
  },
  {
   "cell_type": "markdown",
   "id": "7cf298af",
   "metadata": {},
   "source": [
    "# Задание 2. Первичное изучение данных\n",
    "Проанализировать значения по столбцам, рассчитать базовые статистики, найти выбросы."
   ]
  },
  {
   "cell_type": "code",
   "execution_count": 267,
   "id": "7f4ef766",
   "metadata": {},
   "outputs": [
    {
     "data": {
      "text/plain": [
       "outcome  age\n",
       "1        1      88\n",
       "2        1      48\n",
       "3        1      26\n",
       "2        9      10\n",
       "1        9       7\n",
       "3        9       1\n",
       "dtype: int64"
      ]
     },
     "execution_count": 267,
     "metadata": {},
     "output_type": "execute_result"
    }
   ],
   "source": [
    "# Surgery \n",
    "data['surgery'].mode()[0] #1\n",
    "data['surgery'].value_counts() # была операция - 180, не было операции - 118\n",
    "#В основном лечение лошади не обходится без операции\n",
    "\n",
    "# Age\n",
    "data['age'].value_counts() # 1 year - 275, 9 years - 24\n",
    "data.loc[data.age == 9,'surgery'].value_counts() # 25% лошадей в 9 летнем возрасте лечится с помощью операции\n",
    "data.loc[data.age == 1,'surgery'].value_counts() # 40% лошадей в 1 летнем возрасте лечится с помощью операции\n",
    "# Примерно 90% пациентов это лошади в годовалом возрасте. Прямой взаимосвязи между возрастом лошади и сложностью лечения\n",
    "# требуется операция или нет - не выявлено)\n",
    "\n",
    "#Rectal temperature\t\n",
    "data['rectal temperature'].mode()[0] #Самое частое значение температуры 38\n",
    "pd.to_numeric(data['rectal temperature'])\n",
    "data['rectal temperature'].quantile() # медиана 38.2 градуса\n",
    "data['rectal temperature'].std() # Отклонение в 0.7 градуса \n",
    "iqr = data['rectal temperature'].quantile(0.75) - data['rectal temperature'].quantile(0.25)\n",
    "data['rectal temperature'].quantile(0.25) - (1.5 * iqr) # 36.7 нижний выброс\n",
    "data['rectal temperature'].quantile(0.75) + (1.5 * iqr) #39.5 верхний выброс\n",
    "\n",
    "#pain\n",
    "data['pain'].mode()[0] #чаще всего обращаются с периодической легкой болью\n",
    "data.loc[data.surgery == '1','pain'].value_counts() #в основном лошади, которым требуется операция от 2 до 5 уровня тяжести\n",
    "\n",
    "#outcome\n",
    "data['outcome'].value_counts() # осталось в живых - 178, умерло - 76, усыпили - 44\n",
    "data.loc[data.surgery == '1',['outcome','age']].value_counts() # после операций чуть меньше половины лошадей или умирает\n",
    "#или их приходится усыплять\n"
   ]
  },
  {
   "cell_type": "markdown",
   "id": "48c73c18",
   "metadata": {},
   "source": [
    "# Задание 3. Работа с пропусками\n",
    "Рассчитать количество пропусков для всех выбранных столбцов. Принять и обосновать решение о методе заполнения пропусков по каждому столбцу на основе рассчитанных статистик и возможной взаимосвязи значений в них. Сформировать датафрейм, в котором пропуски будут отсутствовать."
   ]
  },
  {
   "cell_type": "code",
   "execution_count": 273,
   "id": "6e10f110",
   "metadata": {
    "scrolled": true
   },
   "outputs": [
    {
     "data": {
      "text/plain": [
       "surgery                        1\n",
       "age                            0\n",
       "rectal temperature            60\n",
       "pulse                         24\n",
       "respiratory rate              58\n",
       "temperature of extremities    56\n",
       "pain                          55\n",
       "outcome                        1\n",
       "dtype: int64"
      ]
     },
     "execution_count": 273,
     "metadata": {},
     "output_type": "execute_result"
    }
   ],
   "source": [
    "data.isna().sum()\n"
   ]
  },
  {
   "cell_type": "code",
   "execution_count": null,
   "id": "898752f7",
   "metadata": {},
   "outputs": [],
   "source": []
  }
 ],
 "metadata": {
  "kernelspec": {
   "display_name": "Python 3",
   "language": "python",
   "name": "python3"
  },
  "language_info": {
   "codemirror_mode": {
    "name": "ipython",
    "version": 3
   },
   "file_extension": ".py",
   "mimetype": "text/x-python",
   "name": "python",
   "nbconvert_exporter": "python",
   "pygments_lexer": "ipython3",
   "version": "3.8.8"
  }
 },
 "nbformat": 4,
 "nbformat_minor": 5
}
